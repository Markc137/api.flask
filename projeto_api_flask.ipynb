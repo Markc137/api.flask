{
  "cells": [
    {
      "cell_type": "markdown",
      "metadata": {
        "id": "view-in-github",
        "colab_type": "text"
      },
      "source": [
        "<a href=\"https://colab.research.google.com/github/Markc137/api.flask/blob/main/projeto_api_flask.ipynb\" target=\"_parent\"><img src=\"https://colab.research.google.com/assets/colab-badge.svg\" alt=\"Open In Colab\"/></a>"
      ]
    },
    {
      "cell_type": "code",
      "execution_count": 8,
      "metadata": {
        "colab": {
          "base_uri": "https://localhost:8080/"
        },
        "id": "Uqp15kh4ZVW-",
        "outputId": "dd8c3a04-b58c-455f-ee21-f9bac5785bac"
      },
      "outputs": [
        {
          "output_type": "stream",
          "name": "stdout",
          "text": [
            "Requirement already satisfied: flask in /usr/local/lib/python3.10/dist-packages (2.2.5)\n",
            "Requirement already satisfied: Werkzeug>=2.2.2 in /usr/local/lib/python3.10/dist-packages (from flask) (3.0.1)\n",
            "Requirement already satisfied: Jinja2>=3.0 in /usr/local/lib/python3.10/dist-packages (from flask) (3.1.2)\n",
            "Requirement already satisfied: itsdangerous>=2.0 in /usr/local/lib/python3.10/dist-packages (from flask) (2.1.2)\n",
            "Requirement already satisfied: click>=8.0 in /usr/local/lib/python3.10/dist-packages (from flask) (8.1.7)\n",
            "Requirement already satisfied: MarkupSafe>=2.0 in /usr/local/lib/python3.10/dist-packages (from Jinja2>=3.0->flask) (2.1.3)\n",
            "Requirement already satisfied: flask-ngrok in /usr/local/lib/python3.10/dist-packages (0.0.25)\n",
            "Requirement already satisfied: Flask>=0.8 in /usr/local/lib/python3.10/dist-packages (from flask-ngrok) (2.2.5)\n",
            "Requirement already satisfied: requests in /usr/local/lib/python3.10/dist-packages (from flask-ngrok) (2.31.0)\n",
            "Requirement already satisfied: Werkzeug>=2.2.2 in /usr/local/lib/python3.10/dist-packages (from Flask>=0.8->flask-ngrok) (3.0.1)\n",
            "Requirement already satisfied: Jinja2>=3.0 in /usr/local/lib/python3.10/dist-packages (from Flask>=0.8->flask-ngrok) (3.1.2)\n",
            "Requirement already satisfied: itsdangerous>=2.0 in /usr/local/lib/python3.10/dist-packages (from Flask>=0.8->flask-ngrok) (2.1.2)\n",
            "Requirement already satisfied: click>=8.0 in /usr/local/lib/python3.10/dist-packages (from Flask>=0.8->flask-ngrok) (8.1.7)\n",
            "Requirement already satisfied: charset-normalizer<4,>=2 in /usr/local/lib/python3.10/dist-packages (from requests->flask-ngrok) (3.3.2)\n",
            "Requirement already satisfied: idna<4,>=2.5 in /usr/local/lib/python3.10/dist-packages (from requests->flask-ngrok) (3.4)\n",
            "Requirement already satisfied: urllib3<3,>=1.21.1 in /usr/local/lib/python3.10/dist-packages (from requests->flask-ngrok) (2.0.7)\n",
            "Requirement already satisfied: certifi>=2017.4.17 in /usr/local/lib/python3.10/dist-packages (from requests->flask-ngrok) (2023.7.22)\n",
            "Requirement already satisfied: MarkupSafe>=2.0 in /usr/local/lib/python3.10/dist-packages (from Jinja2>=3.0->Flask>=0.8->flask-ngrok) (2.1.3)\n"
          ]
        }
      ],
      "source": [
        "!pip install flask\n",
        "!pip install flask-ngrok"
      ]
    },
    {
      "cell_type": "code",
      "execution_count": 9,
      "metadata": {
        "id": "pocWnxCiZuT1"
      },
      "outputs": [],
      "source": [
        "import pandas as pd\n",
        "from flask import Flask\n",
        "from flask import *\n",
        "from flask_ngrok import run_with_ngrok\n",
        "from flask import request, jsonify, Flask\n",
        "import random as rk\n",
        "import json"
      ]
    },
    {
      "cell_type": "code",
      "execution_count": 10,
      "metadata": {
        "id": "KAA2krXXLJPp"
      },
      "outputs": [],
      "source": [
        "app = Flask(__name__)\n",
        "run_with_ngrok(app)"
      ]
    },
    {
      "cell_type": "code",
      "execution_count": 11,
      "metadata": {
        "id": "lNsJNIuQyQK7"
      },
      "outputs": [],
      "source": [
        "planilha = [\n",
        "    {'Number': 1, 'name': 'Maresh', 'age': 25, 'city': 'Bangalore', 'country': 'India'},\n",
        "    {'Number': 2, 'name': 'Alex', 'age': 26, 'city': 'London', 'country': 'UK'},\n",
        "    {'Number': 3, 'name': 'David', 'age': 27, 'city': 'San Francisco', 'country': 'USA'},\n",
        "    {'Number': 4, 'name': 'John', 'age': 28, 'city': 'Toronto', 'country': 'Canada'},\n",
        "    {'Number': 5, 'name': 'Chris', 'age': 29, 'city': 'Paris', 'country': 'France'}\n",
        "]\n"
      ]
    },
    {
      "cell_type": "code",
      "execution_count": 12,
      "metadata": {
        "colab": {
          "base_uri": "https://localhost:8080/"
        },
        "id": "T3gx7QRQnrMH",
        "outputId": "e11b85d0-0d0b-45ef-ead5-db78a3917cdc"
      },
      "outputs": [
        {
          "output_type": "stream",
          "name": "stdout",
          "text": [
            "0 {'Number': 1, 'name': 'Maresh', 'age': 25, 'city': 'Bangalore', 'country': 'India'}\n",
            "1 {'Number': 2, 'name': 'Alex', 'age': 26, 'city': 'London', 'country': 'UK'}\n",
            "2 {'Number': 3, 'name': 'David', 'age': 27, 'city': 'San Francisco', 'country': 'USA'}\n",
            "3 {'Number': 4, 'name': 'John', 'age': 28, 'city': 'Toronto', 'country': 'Canada'}\n",
            "4 {'Number': 5, 'name': 'Chris', 'age': 29, 'city': 'Paris', 'country': 'France'}\n"
          ]
        }
      ],
      "source": [
        "for i, item in enumerate((planilha)):\n",
        "    print(i, item)"
      ]
    },
    {
      "cell_type": "code",
      "execution_count": 13,
      "metadata": {
        "id": "fRq1vFvjzBhy"
      },
      "outputs": [],
      "source": [
        "@app.route('/')\n",
        "def home():\n",
        "  return jsonify(json.loads(json.dumps(planilha)))"
      ]
    },
    {
      "cell_type": "code",
      "execution_count": 14,
      "metadata": {
        "id": "vsFY4W5TLz5n"
      },
      "outputs": [],
      "source": [
        "@app.route('/favicon.ico')\n",
        "def favicon():\n",
        "    return app.send_static_file('favicon.ico')"
      ]
    },
    {
      "cell_type": "code",
      "execution_count": 15,
      "metadata": {
        "id": "JH-9Y6NK8BVH"
      },
      "outputs": [],
      "source": [
        "@app.route('/output')\n",
        "def get_data():\n",
        "  return jsonify(planilha)"
      ]
    },
    {
      "cell_type": "code",
      "execution_count": null,
      "metadata": {
        "colab": {
          "base_uri": "https://localhost:8080/"
        },
        "id": "Eijs_IWN9scF",
        "outputId": "7c2b4e97-b87d-4404-b172-4e87aba78df7"
      },
      "outputs": [
        {
          "output_type": "stream",
          "name": "stdout",
          "text": [
            " * Serving Flask app '__main__'\n",
            " * Debug mode: off\n"
          ]
        },
        {
          "output_type": "stream",
          "name": "stderr",
          "text": [
            "INFO:werkzeug:\u001b[31m\u001b[1mWARNING: This is a development server. Do not use it in a production deployment. Use a production WSGI server instead.\u001b[0m\n",
            " * Running on http://127.0.0.1:5000\n",
            "INFO:werkzeug:\u001b[33mPress CTRL+C to quit\u001b[0m\n"
          ]
        },
        {
          "output_type": "stream",
          "name": "stdout",
          "text": [
            " * Running on http://1d1d-35-232-114-70.ngrok.io\n",
            " * Traffic stats available on http://127.0.0.1:4040\n"
          ]
        },
        {
          "output_type": "stream",
          "name": "stderr",
          "text": [
            "INFO:werkzeug:127.0.0.1 - - [19/Nov/2023 18:57:15] \"GET / HTTP/1.1\" 200 -\n",
            "INFO:werkzeug:127.0.0.1 - - [19/Nov/2023 18:57:16] \"\u001b[33mGET /favicon.ico HTTP/1.1\u001b[0m\" 404 -\n"
          ]
        }
      ],
      "source": [
        "@app.route('/input', methods=['GET', 'POST'])\n",
        "def predjon():\n",
        "  pred= r.choice(['positive', 'negative'])\n",
        "  nd = planilha\n",
        "  nd['predicition']= pred\n",
        "  return jsonify(nd)\n",
        "app.run()"
      ]
    }
  ],
  "metadata": {
    "colab": {
      "provenance": [],
      "authorship_tag": "ABX9TyNt3ckLvhhsqGdlhliQAh2P",
      "include_colab_link": true
    },
    "kernelspec": {
      "display_name": "Python 3",
      "name": "python3"
    },
    "language_info": {
      "name": "python"
    }
  },
  "nbformat": 4,
  "nbformat_minor": 0
}